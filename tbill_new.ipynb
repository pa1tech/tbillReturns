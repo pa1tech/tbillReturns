{
 "cells": [
  {
   "cell_type": "code",
   "execution_count": 7,
   "metadata": {},
   "outputs": [],
   "source": [
    "import re, time,os, datetime\n",
    "import pandas as pd\n",
    "from selenium.webdriver import Chrome\n",
    "from selenium.webdriver.common.by import By\n",
    "from selenium.webdriver.chrome.service import Service\n",
    "from webdriver_manager.chrome import ChromeDriverManager\n",
    "\n",
    "driver = Chrome(service=Service(ChromeDriverManager().install()))"
   ]
  },
  {
   "cell_type": "code",
   "execution_count": 8,
   "metadata": {},
   "outputs": [],
   "source": [
    "excel_file = \"Tbill_Returns_2024.xlsx\"\n",
    "\n",
    "try:\n",
    "\tdf = pd.read_excel(excel_file,sheet_name=\"Sheet1\")\n",
    "\tdates = list(df[\"Date\"])\n",
    "except:\n",
    "\tdf = pd.DataFrame()\n",
    "\tdates = []"
   ]
  },
  {
   "cell_type": "code",
   "execution_count": 9,
   "metadata": {},
   "outputs": [],
   "source": [
    "time.sleep(5)\n",
    "driver.get(\"https://website.rbi.org.in/web/rbi/press-releases?q=%2291+days%2C+182+days+and+364+days+T-Bill+Auction+Result%3A+Cut+off%22&delta=50\")\n",
    "time.sleep(5)\n",
    "text = driver.page_source\n",
    "arr = re.findall('href=\"https://website.rbi.org.in/web/rbi/-/press-releases/91-days-182-days-and-364-days-t-bill-auction-result-cut-off-.*?\"',text)"
   ]
  },
  {
   "cell_type": "code",
   "execution_count": 10,
   "metadata": {},
   "outputs": [
    {
     "name": "stdout",
     "output_type": "stream",
     "text": [
      "02 May, 2024\n",
      "02 May, 2024\n",
      "24 Apr, 2024\n"
     ]
    }
   ],
   "source": [
    "start = True\n",
    "\n",
    "for elem in arr:\n",
    "\tif start:\n",
    "\t\tt = elem[6:-1]\n",
    "\t\tdriver.get(t)\n",
    "\t\ttext1 = driver.page_source\n",
    "\n",
    "\t\ttry:\n",
    "\t\t\tdate = re.findall(\"Published on .*2024\", text1)[0].split(\"on\")[1]\n",
    "\t\t\tdate = datetime.datetime.strptime(date, ' %B %d, %Y').strftime('%d %b, %Y')\n",
    "\t\t\tprint(date)\n",
    "\t\t\tif date not in dates:\n",
    "\t\t\t\twith open(\"tmp.html\", \"w\", encoding=\"utf-8\") as f:\n",
    "\t\t\t\t\tf.write(text1)\n",
    "\t\t\t\t\tdfs = pd.read_html(\"tmp.html\")\n",
    "\n",
    "\t\t\t\td = dfs[2]\n",
    "\t\t\t\treturns = [d.loc[2,2],d.loc[2,3],d.loc[2,4]]\n",
    "\t\t\t\tfor i in range(len(returns)):\n",
    "\t\t\t\t\ttry:\n",
    "\t\t\t\t\t\treturns[i] = ((returns[i].split(\":\"))[1])[:-1]\n",
    "\t\t\t\t\texcept:\n",
    "\t\t\t\t\t\treturns[i] = \"NA\"\n",
    "\n",
    "\t\t\t\tdf1 = pd.DataFrame({\"Press Release ID\":[\"\"], \"Date\":[date], \"91 DTB Yield\":[returns[0]], \"182 DTB Yield\":[returns[1]], \"364 DTB Yield\":[returns[2]]})\n",
    "\t\t\t\tdf = pd.concat((df,df1))\n",
    "\t\t\t\tprint(date)\n",
    "\t\t\telse:\n",
    "\t\t\t\tstart = False\n",
    "\t\texcept:\n",
    "\t\t\tpass"
   ]
  },
  {
   "cell_type": "code",
   "execution_count": 11,
   "metadata": {},
   "outputs": [],
   "source": [
    "driver.quit()\n",
    "\n",
    "df['Date'] = pd.to_datetime(df['Date'])\n",
    "df = df.sort_values(by='Date',ascending=True, ignore_index=True)\n",
    "df['Date'] = df['Date'].dt.strftime('%d %b, %Y')\n",
    "df.to_excel(excel_file,sheet_name=\"Sheet1\",index = False)\n",
    "\n",
    "os.remove(\"tmp.html\")"
   ]
  }
 ],
 "metadata": {
  "language_info": {
   "name": "python"
  }
 },
 "nbformat": 4,
 "nbformat_minor": 2
}
